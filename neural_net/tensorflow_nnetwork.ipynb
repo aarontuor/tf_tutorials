{
 "cells": [
  {
   "cell_type": "markdown",
   "metadata": {},
   "source": [
    "# Get the tutorial materials\n",
    "\n",
    "+ Download zip:\n",
    "    In a browser go to https://github.com/aarontuor/tf_tutorials. Click clone or download button.\n",
    "+ Or clone the repo:\n",
    "    ```bash\n",
    "    $> git clone https://github.com/aarontuor/tf_tutorials.git\n",
    "    ```\n",
    "\n"
   ]
  },
  {
   "cell_type": "markdown",
   "metadata": {},
   "source": [
    "# Tensorflow virtualenv install\n",
    "\n",
    "```bash\n",
    "$> virtualenv --system-site-packages ~/tf_tutorials\n",
    "$> source ~/tf_tutorials/bin/activate\n",
    "$> export TF_BINARY_URL=https://storage.googleapis.com/tensorflow/linux/cpu/tensorflow-0.11.0rc0-cp27-none-linux_x86_64.whl\n",
    "$> pip install --upgrade $TF_BINARY_URL\n",
    "```"
   ]
  },
  {
   "cell_type": "markdown",
   "metadata": {},
   "source": [
    "# Jupyter Notebook Install with Codefolding extension\n",
    "\n",
    "```bash\n",
    "$> pip install jupyter\n",
    "$> pip install https://github.com/ipython-contrib/jupyter_contrib_nbextensions/tarball/master\n",
    "$> jupyter contrib nbextension install --user \n",
    "$> jupyter nbextension enable codefolding/main\n",
    "```\n"
   ]
  },
  {
   "cell_type": "markdown",
   "metadata": {},
   "source": [
    "# Matplotlib pip install\n",
    "```bash\n",
    "$> pip install matplotlib\n",
    "```"
   ]
  },
  {
   "cell_type": "markdown",
   "metadata": {},
   "source": [
    "# ANTk pip install\n",
    "\n",
    "```bash\n",
    "$> pip install antk\n",
    "```"
   ]
  },
  {
   "cell_type": "markdown",
   "metadata": {},
   "source": [
    "# Tensorflow Introduction: Neural Network\n",
    "\n",
    "A neural network is just a parametric function. If you can find the right parameters, and have a large enough hidden layer size, a two layer neural network can \n",
    "approximate any function!\n",
    "\n",
    "Let $x \\in \\mathbb{R}^{1 \\times n}, W \\in \\mathbb{R}^{n \\times m},$ and $ U \\in \\mathbb{R}^{m \\times p}$. A two layer neural network is the parametric function $\\mathcal{q}: \\mathbb{R}^{1 \\times n} \\rightarrow \\mathbb{R}^{1 \\times p}$ where \n",
    "$\\mathcal{q} = g( U f(x W + b) + c)$, $U, W, b, c$ are the parameters to be learned, and the functions $g,h$ are model choices.\n",
    "\n",
    "![nnet graph](nnet_graph.png)\n",
    "\n",
    "Training a neural network involves a forward pass, which evaluates the function $q$ for a given set of parameters, and a backward pass which adjusts the parameters using gradient descent by way of the backpropagation algorithm, depending on how well $q$ approximates the training example targets. Tensorflow takes care of the math for the backward pass so we only need to worry about coding the forward pass for training.\n",
    "\n",
    "There are several choices for $f$. Below are a few:"
   ]
  },
  {
   "cell_type": "code",
   "execution_count": 17,
   "metadata": {
    "collapsed": false
   },
   "outputs": [
    {
     "data": {
      "image/png": "[encoded data removed]",
      "text/plain": [
       "<matplotlib.figure.Figure at 0x7f59bc040e50>"
      ]
     },
     "metadata": {},
     "output_type": "display_data"
    }
   ],
   "source": [
    "import matplotlib.pyplot as plt\n",
    "import tensorflow as tf\n",
    "import numpy as np \n",
    "from antk.core.loader import DataSet\n",
    "\n",
    "x = np.linspace(-5, 5, 100) # 100 linearly spaced numbers between -10, 10\n",
    "\n",
    "# elementwise sigmoid\n",
    "f1 = 1/(1+np.exp(-x))\n",
    "\n",
    "# hyperbolic tangent: tanh\n",
    "f2 = (np.exp(2*x) -1)/(np.exp(2*x) + 1)\n",
    "\n",
    "# rectified linear units\n",
    "f3 = np.maximum(np.zeros(x.shape), x)\n",
    "\n",
    "plt.plot(x,f1, x, f2, x, f3)\n",
    "plt.gca().set_ylim(bottom=-1.5, top=1.5)\n",
    "plt.show()"
   ]
  },
  {
   "cell_type": "code",
   "execution_count": 18,
   "metadata": {
    "code_folding": [],
    "collapsed": false
   },
   "outputs": [
    {
     "name": "stdout",
     "output_type": "stream",
     "text": [
      "Successfully downloaded train-images-idx3-ubyte.gz 9912422 bytes.\n",
      "Extracting MNIST_data/train-images-idx3-ubyte.gz\n",
      "Successfully downloaded train-labels-idx1-ubyte.gz 28881 bytes.\n",
      "Extracting MNIST_data/train-labels-idx1-ubyte.gz\n",
      "Successfully downloaded t10k-images-idx3-ubyte.gz 1648877 bytes.\n",
      "Extracting MNIST_data/t10k-images-idx3-ubyte.gz\n",
      "Successfully downloaded t10k-labels-idx1-ubyte.gz 4542 bytes.\n",
      "Extracting MNIST_data/t10k-labels-idx1-ubyte.gz\n"
     ]
    }
   ],
   "source": [
    "# Retrieve data\n",
    "from tensorflow.examples.tutorials.mnist import input_data\n",
    "mnist = input_data.read_data_sets(\"MNIST_data/\", one_hot=True)"
   ]
  },
  {
   "cell_type": "markdown",
   "metadata": {},
   "source": [
    "Below is the computational graph of the function we want to make. Notice that $X$ is not a vector but a batch of vectors stacked together in a matrix, so we can send many vectors at a time through the neural net for training. \n",
    "\n",
    "![nnet graph](batch_nnet.png)\n"
   ]
  },
  {
   "cell_type": "code",
   "execution_count": 19,
   "metadata": {
    "code_folding": [],
    "collapsed": false
   },
   "outputs": [],
   "source": [
    "# Make a graph and set as default\n",
    "g = tf.Graph()\n",
    "g.as_default() # Also better \"with tf.Graph().as_default() as g:\"\n",
    "\n",
    "# First make placeholders for inputs and targets\n",
    "x = tf.placeholder(tf.float32, shape=[None, 784]) # The none dimension leaves us free to choose a batch_size at runtime\n",
    "y = tf.placeholder(tf.float32, shape=[None, 10]) # Ten classes of digits\n",
    "\n",
    "# Now make trainable variables\n",
    "W = tf.Variable(0.01*tf.truncated_normal([784, 50], mean=0.0, stddev=1.0, dtype=tf.float32, seed=None, name='W'))\n",
    "U = tf.Variable(0.01*tf.truncated_normal([50, 10], mean=0.0, stddev=1.0, dtype=tf.float32, seed=None, name='U'))\n",
    "\n",
    "b = tf.Variable(tf.zeros([50])) # These don't need to be batchsize X 50 because of TF broadcasting\n",
    "c = tf.Variable(tf.zeros([10])) # Actually we really don't want the extra dimension because we want the bias to repeat"
   ]
  },
  {
   "cell_type": "code",
   "execution_count": 20,
   "metadata": {
    "code_folding": [],
    "collapsed": true
   },
   "outputs": [],
   "source": [
    "# Now compute q\n",
    "h = tf.nn.relu(tf.matmul(x, W) + b) # The hidden layer\n",
    "q = tf.nn.softmax(tf.matmul(h,U) + c)"
   ]
  },
  {
   "cell_type": "code",
   "execution_count": 21,
   "metadata": {
    "code_folding": [],
    "collapsed": false
   },
   "outputs": [],
   "source": [
    "# Loss function\n",
    "cross_entropy = -tf.reduce_sum(y*tf.log(q))\n",
    "\n",
    "# Train step\n",
    "train_step = tf.train.GradientDescentOptimizer(0.01).minimize(cross_entropy)\n",
    "\n",
    "# Evaluate\n",
    "correct_prediction = tf.equal(tf.argmax(q,1), tf.argmax(y,1))\n",
    "accuracy = tf.reduce_mean(tf.cast(correct_prediction, tf.float32))\n",
    "\n",
    "init = tf.initialize_all_variables()\n",
    "\n",
    "sess = tf.Session()\n",
    "sess.run(init)"
   ]
  },
  {
   "cell_type": "code",
   "execution_count": 22,
   "metadata": {
    "code_folding": [],
    "collapsed": false
   },
   "outputs": [
    {
     "name": "stdout",
     "output_type": "stream",
     "text": [
      "0.8715"
     ]
    },
    {
     "ename": "KeyboardInterrupt",
     "evalue": "",
     "output_type": "error",
     "traceback": [
      "\u001b[0;31m---------------------------------------------------------------------------\u001b[0m",
      "\u001b[0;31mKeyboardInterrupt\u001b[0m                         Traceback (most recent call last)",
      "\u001b[0;32m<ipython-input-22-7c6ac72f158b>\u001b[0m in \u001b[0;36m<module>\u001b[0;34m()\u001b[0m\n\u001b[1;32m      6\u001b[0m     \u001b[0msess\u001b[0m\u001b[0;34m.\u001b[0m\u001b[0mrun\u001b[0m\u001b[0;34m(\u001b[0m\u001b[0mtrain_step\u001b[0m\u001b[0;34m,\u001b[0m \u001b[0mfeed_dict\u001b[0m\u001b[0;34m=\u001b[0m\u001b[0;34m{\u001b[0m\u001b[0mx\u001b[0m\u001b[0;34m:\u001b[0m \u001b[0mbatch_xs\u001b[0m\u001b[0;34m,\u001b[0m \u001b[0my\u001b[0m\u001b[0;34m:\u001b[0m \u001b[0mbatch_ys\u001b[0m\u001b[0;34m}\u001b[0m\u001b[0;34m)\u001b[0m\u001b[0;34m\u001b[0m\u001b[0m\n\u001b[1;32m      7\u001b[0m     \u001b[0msys\u001b[0m\u001b[0;34m.\u001b[0m\u001b[0mstdout\u001b[0m\u001b[0;34m.\u001b[0m\u001b[0mwrite\u001b[0m\u001b[0;34m(\u001b[0m\u001b[0;34m'%s'\u001b[0m \u001b[0;34m%\u001b[0m \u001b[0msess\u001b[0m\u001b[0;34m.\u001b[0m\u001b[0mrun\u001b[0m\u001b[0;34m(\u001b[0m\u001b[0maccuracy\u001b[0m\u001b[0;34m,\u001b[0m \u001b[0mfeed_dict\u001b[0m\u001b[0;34m=\u001b[0m\u001b[0;34m{\u001b[0m\u001b[0mx\u001b[0m\u001b[0;34m:\u001b[0m \u001b[0mmnist\u001b[0m\u001b[0;34m.\u001b[0m\u001b[0mtest\u001b[0m\u001b[0;34m.\u001b[0m\u001b[0mimages\u001b[0m\u001b[0;34m,\u001b[0m \u001b[0my\u001b[0m\u001b[0;34m:\u001b[0m \u001b[0mmnist\u001b[0m\u001b[0;34m.\u001b[0m\u001b[0mtest\u001b[0m\u001b[0;34m.\u001b[0m\u001b[0mlabels\u001b[0m\u001b[0;34m}\u001b[0m\u001b[0;34m)\u001b[0m\u001b[0;34m)\u001b[0m\u001b[0;34m\u001b[0m\u001b[0m\n\u001b[0;32m----> 8\u001b[0;31m     \u001b[0mtime\u001b[0m\u001b[0;34m.\u001b[0m\u001b[0msleep\u001b[0m\u001b[0;34m(\u001b[0m\u001b[0;36m.15\u001b[0m\u001b[0;34m)\u001b[0m\u001b[0;34m\u001b[0m\u001b[0m\n\u001b[0m\u001b[1;32m      9\u001b[0m     \u001b[0msys\u001b[0m\u001b[0;34m.\u001b[0m\u001b[0mstdout\u001b[0m\u001b[0;34m.\u001b[0m\u001b[0mwrite\u001b[0m\u001b[0;34m(\u001b[0m\u001b[0;34m'\\r'\u001b[0m\u001b[0;34m)\u001b[0m\u001b[0;34m\u001b[0m\u001b[0m\n\u001b[1;32m     10\u001b[0m \u001b[0msess\u001b[0m\u001b[0;34m.\u001b[0m\u001b[0mclose\u001b[0m\u001b[0;34m(\u001b[0m\u001b[0;34m)\u001b[0m \u001b[0;31m# release resources allocated to session also \"with tf.Session() as sess:\"\u001b[0m\u001b[0;34m\u001b[0m\u001b[0m\n",
      "\u001b[0;31mKeyboardInterrupt\u001b[0m: "
     ]
    }
   ],
   "source": [
    "import sys \n",
    "import time\n",
    "\n",
    "for i in range(1000):\n",
    "    batch_xs, batch_ys = mnist.train.next_batch(100)\n",
    "    sess.run(train_step, feed_dict={x: batch_xs, y: batch_ys})\n",
    "    sys.stdout.write('%s' % sess.run(accuracy, feed_dict={x: mnist.test.images, y: mnist.test.labels}))\n",
    "    time.sleep(.15)\n",
    "    sys.stdout.write('\\r')\n",
    "sess.close() # release resources allocated to session also \"with tf.Session() as sess:\""
   ]
  },
  {
   "cell_type": "markdown",
   "metadata": {},
   "source": [
    "## A reusable nnet\n",
    "This code is perfectly usable but we've written a perfectly good neural network that only works with the vectorized mnist data (or some other 784 dimensional data set)! Let's make our neural network reusable. "
   ]
  },
  {
   "cell_type": "code",
   "execution_count": null,
   "metadata": {
    "code_folding": [],
    "collapsed": false
   },
   "outputs": [],
   "source": [
    "# pass 1 at nnet classifier\n",
    "def nnet_classifier1(x, hidden_size, output_size, activation):\n",
    "    \"\"\"\n",
    "    First pass at a classifier\n",
    "    \n",
    "    :param x: Input to the network\n",
    "    :param hidden_size: Size of second dimension of W the first weight matrix\n",
    "    :param output_size: Size of second dimension of U the second weight matrix\n",
    "    \"\"\"\n",
    "    fan_in = x.get_shape().as_list()[1]\n",
    "    scale = 1.0/np.sqrt(fan_in)\n",
    "    W = tf.Variable(scale*tf.truncated_normal([fan_in, hidden_size], \n",
    "                                             mean=0.0, stddev=1.0, \n",
    "                                             dtype=tf.float32, seed=None, name='W'))\n",
    "    \n",
    "    scale = 1.0/np.sqrt(hidden_size)\n",
    "    U = tf.Variable(scale*tf.truncated_normal([hidden_size, output_size], \n",
    "                                              mean=0.0, stddev=1.0, dtype=tf.float32, \n",
    "                                              seed=None, name='U'))\n",
    "\n",
    "    b = tf.Variable(tf.zeros([hidden_size]))\n",
    "    c = tf.Variable(tf.zeros([output_size]))\n",
    "    \n",
    "    h = activation(tf.matmul(x, W) + b) # The hidden layer\n",
    "    return tf.nn.softmax(tf.matmul(h,U) + c)\n"
   ]
  },
  {
   "cell_type": "markdown",
   "metadata": {},
   "source": [
    "## A better reusable nnet\n",
    "\n",
    "Our last attempt was better but we have restricted our neural net op to a neural network with one hidden layer. \n",
    "Let's make this network capable of arbitrarily depth and hidden layer sizes. "
   ]
  },
  {
   "cell_type": "code",
   "execution_count": 10,
   "metadata": {
    "code_folding": [],
    "collapsed": true
   },
   "outputs": [],
   "source": [
    "# pass 2 at nnet classifier\n",
    "def nnet_classifier2(x, layers=[50,10], act=tf.nn.relu, name='nnet'):\n",
    "    \"\"\"\n",
    "    Second pass at a classifier, eliminate repeated code. Bonus: An arbitrarilly deep neural network.\n",
    "    \n",
    "    :param x: Input to the network\n",
    "    :param layers: Sizes of network layers\n",
    "    :param act: Activation function to produce hidden layers of neural network.\n",
    "    :param name: An identifier for retrieving tensors made by dnn\n",
    "    \"\"\"\n",
    "    \n",
    "    for ind, hidden_size in enumerate(layers):\n",
    "        with tf.variable_scope('layer_%s' % ind):\n",
    "            fan_in = x.get_shape().as_list()[1]\n",
    "            scale = 1.0/np.sqrt(fan_in)\n",
    "            W = tf.Variable(scale*tf.truncated_normal([fan_in, hidden_size], \n",
    "                                                     mean=0.0, stddev=1.0, \n",
    "                                                     dtype=tf.float32, seed=None, name='W'))\n",
    "            tf.add_to_collection(name + '_weights', W)\n",
    "            b = tf.Variable(tf.zeros([hidden_size])) \n",
    "            tf.add_to_collection(name + '_bias', b)\n",
    "            x = tf.matmul(x,W) + b\n",
    "            if ind != len(layers) - 1:\n",
    "                x = act(x, name='h' + str(ind)) # The hidden layer\n",
    "            tf.add_to_collection(name + '_activation', x)\n",
    "    return tf.nn.softmax(x)"
   ]
  },
  {
   "cell_type": "markdown",
   "metadata": {},
   "source": [
    "## Eliminate boilerplate training code by making a reusable model class"
   ]
  },
  {
   "cell_type": "code",
   "execution_count": 11,
   "metadata": {
    "code_folding": [],
    "collapsed": false
   },
   "outputs": [],
   "source": [
    "class SimpleModel():\n",
    "    \"\"\"\n",
    "    A class for gradient descent training arbitrary models.\n",
    "    \n",
    "    :param loss: loss_tensor defined in graph\n",
    "    :param eval_tensor: For evaluating on dev set\n",
    "    :param ph_dict: A dictionary of tensorflow placeholders\n",
    "    :param learnrate: step_size for gradient descent\n",
    "    :param debug: Whether to print debugging info \n",
    "    \"\"\"\n",
    "    \n",
    "    def __init__(self, loss, eval_tensor, ph_dict, learnrate=0.01, debug=False):\n",
    "        self.loss = loss\n",
    "        self.ph_dict = ph_dict\n",
    "        self.eval_tensor = eval_tensor\n",
    "        self.debug=debug\n",
    "        self.train_step = tf.train.GradientDescentOptimizer(learnrate).minimize(loss)\n",
    "        self.init = tf.initialize_all_variables()\n",
    "        self.epoch = 0.0\n",
    "        self.sess = tf.Session()\n",
    "        self.sess.run(self.init)\n",
    "        \n",
    "    def train(self, train_data, dev_data, mb=1000, num_epochs=1):\n",
    "        \"\"\"\n",
    "        :param train_data: A DataSet object of train data.\n",
    "        :param dev_data: A DataSet object of dev data.\n",
    "        :param mb: The mini-batch size.\n",
    "        :param num_epochs: How many epochs to train for.\n",
    "        \"\"\"\n",
    "        while self.epoch < num_epochs:\n",
    "            self.epoch += float(mb)/float(train.num_examples)\n",
    "            new_batch = train.next_batch(mb)\n",
    "            self.sess.run(self.train_step, feed_dict=self.get_feed_dict(new_batch, self.ph_dict))\n",
    "            sys.stdout.write('epoch %.2f\\tdev eval: %.4f' % (self.epoch, self.evaluate(dev_data)))\n",
    "            time.sleep(.2)\n",
    "            sys.stdout.write('\\r')\n",
    "        \n",
    "    def evaluate(self, data):\n",
    "        \"\"\"\n",
    "        Evaluation function\n",
    "        \n",
    "        :param data: The data to evaluate on.\n",
    "        :return: The return value of the evaluation function in numpy form\n",
    "        \"\"\"\n",
    "        return self.sess.run(self.eval_tensor, feed_dict=self.get_feed_dict(data, self.ph_dict))\n",
    "                                 \n",
    "    def get_feed_dict(self, batch, ph_dict):\n",
    "\n",
    "        \"\"\"\n",
    "        :param batch: A dataset object.\n",
    "        :param ph_dict: A dictionary where the keys match keys in batch, and the values are placeholder tensors\n",
    "        :return: A feed dictionary with keys of placeholder tensors and values of numpy matrices\n",
    "        \"\"\"\n",
    "        \n",
    "        datadict = batch.features.copy()\n",
    "        datadict.update(batch.labels)\n",
    "                                 \n",
    "        if self.debug:\n",
    "            for desc in ph_dict:\n",
    "                print('%s\\n\\tph: %s\\t%s\\tdt: %s\\t%s' % (desc,\n",
    "                                                        ph_dict[desc].get_shape().as_list(), ph_dict[desc].dtype, \n",
    "                                                        datadict[desc].shape, datadict[desc].dtype))\n",
    "        return {ph_dict[key]:datadict[key] for key in ph_dict}"
   ]
  },
  {
   "cell_type": "markdown",
   "metadata": {
    "collapsed": true
   },
   "source": [
    "## Testing SimpleModel class, and nnet_classifier operation"
   ]
  },
  {
   "cell_type": "code",
   "execution_count": 15,
   "metadata": {
    "code_folding": [
     10
    ],
    "collapsed": false
   },
   "outputs": [
    {
     "name": "stdout",
     "output_type": "stream",
     "text": [
      "Extracting MNIST_data/train-images-idx3-ubyte.gz\n",
      "Extracting MNIST_data/train-labels-idx1-ubyte.gz\n",
      "Extracting MNIST_data/t10k-images-idx3-ubyte.gz\n",
      "Extracting MNIST_data/t10k-labels-idx1-ubyte.gz\n"
     ]
    }
   ],
   "source": [
    "import sys\n",
    "import time\n",
    "import tensorflow as tf\n",
    "from antk.core.loader import DataSet\n",
    "\n",
    "# Data prep ================================================================\n",
    "mnist = input_data.read_data_sets(\"MNIST_data/\", one_hot=True)\n",
    "train = DataSet({'images': mnist.train.images}, labels={'digits': mnist.train.labels}, mix=False)\n",
    "dev = DataSet({'images': mnist.test.images}, labels={'digits': mnist.test.labels}, mix=False)\n",
    "\n",
    "# Make graph ============================================================\n",
    "ph_dict = {'images': tf.placeholder(tf.float32, shape=[None, 784]),\n",
    "           'digits': tf.placeholder(tf.float32, shape=[None, 10])}\n",
    "\n",
    "prediction = nnet_classifier2(ph_dict['images'], \n",
    "                             layers = [50, 10], \n",
    "                             act = tf.nn.relu, \n",
    "                             name='nnet')\n",
    "\n",
    "# Loss function\n",
    "cross_entropy = -tf.reduce_sum(ph_dict['digits']*tf.log(prediction))\n",
    "\n",
    "# Evaluate\n",
    "correct_prediction = tf.equal(tf.argmax(prediction,1), tf.argmax(ph_dict['digits'],1))\n",
    "accuracy = tf.reduce_mean(tf.cast(correct_prediction, tf.float32))\n",
    "\n",
    "# Make model\n",
    "model = SimpleModel(cross_entropy, accuracy, ph_dict, learnrate=0.01)\n",
    "\n",
    "# Train ================================================================\n",
    "model.train(train, dev, mb=100, num_epochs=10)\n"
   ]
  },
  {
   "cell_type": "code",
   "execution_count": null,
   "metadata": {
    "collapsed": true
   },
   "outputs": [],
   "source": []
  }
 ],
 "metadata": {
  "kernelspec": {
   "display_name": "Python 2",
   "language": "python",
   "name": "python2"
  },
  "language_info": {
   "codemirror_mode": {
    "name": "ipython",
    "version": 2
   },
   "file_extension": ".py",
   "mimetype": "text/x-python",
   "name": "python",
   "nbconvert_exporter": "python",
   "pygments_lexer": "ipython2",
   "version": "2.7.12"
  }
 },
 "nbformat": 4,
 "nbformat_minor": 1
}
